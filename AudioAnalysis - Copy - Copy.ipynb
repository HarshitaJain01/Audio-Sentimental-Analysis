{
 "cells": [
  {
   "cell_type": "code",
   "execution_count": 1,
   "id": "6738dd68",
   "metadata": {},
   "outputs": [],
   "source": [
    "from glob import glob\n",
    "import matplotlib.pyplot as plt\n",
    "from pyAudioAnalysis import ShortTermFeatures as sf\n",
    "import librosa\n",
    "import librosa.display\n",
    "import numpy as np\n",
    "import pandas as pd\n",
    "import warnings\n",
    "import pickle\n",
    "warnings.filterwarnings(\"ignore\")"
   ]
  },
  {
   "cell_type": "code",
   "execution_count": 2,
   "id": "4dc5093e",
   "metadata": {},
   "outputs": [],
   "source": [
    "file_paths_1 = glob('Audio-Classification-master/Audio_data/*/*')"
   ]
  },
  {
   "cell_type": "code",
   "execution_count": 3,
   "id": "ea083ae3",
   "metadata": {},
   "outputs": [
    {
     "data": {
      "text/plain": [
       "116"
      ]
     },
     "execution_count": 3,
     "metadata": {},
     "output_type": "execute_result"
    }
   ],
   "source": [
    "len(file_paths_1)"
   ]
  },
  {
   "cell_type": "code",
   "execution_count": 4,
   "id": "3b0fbdea",
   "metadata": {},
   "outputs": [],
   "source": [
    "neutral_1 = glob('Audio-Classification-master/Audio_data/neutral/*.wav')\n",
    "angry_1 = glob('Audio-Classification-master/Audio_data/angry/*.wav')\n",
    "neutral_2 = glob('URDU-Dataset-master/Neutral/*.wav')\n",
    "happy = glob('URDU-Dataset-master/Happy/*.wav')\n",
    "angry_2 = glob('URDU-Dataset-master/Angry/*.wav')"
   ]
  },
  {
   "cell_type": "code",
   "execution_count": 5,
   "id": "babc4cf0",
   "metadata": {},
   "outputs": [
    {
     "data": {
      "text/plain": [
       "410"
      ]
     },
     "execution_count": 5,
     "metadata": {},
     "output_type": "execute_result"
    }
   ],
   "source": [
    "angry = angry_1+angry_2\n",
    "neutral = neutral_1 + neutral_2\n",
    "negative = angry \n",
    "positive = happy\n",
    "paths = positive +  negative + neutral\n",
    "len(paths)"
   ]
  },
  {
   "cell_type": "code",
   "execution_count": 6,
   "id": "cfce7174",
   "metadata": {},
   "outputs": [
    {
     "data": {
      "text/plain": [
       "['URDU-Dataset-master/Happy\\\\SF1_F10_H010.wav',\n",
       " 'URDU-Dataset-master/Happy\\\\SF1_F11_H011.wav',\n",
       " 'URDU-Dataset-master/Happy\\\\SF1_F12_H012.wav',\n",
       " 'URDU-Dataset-master/Happy\\\\SF1_F1_H01.wav',\n",
       " 'URDU-Dataset-master/Happy\\\\SF1_F2_H02.wav',\n",
       " 'URDU-Dataset-master/Happy\\\\SF1_F3_H03.wav',\n",
       " 'URDU-Dataset-master/Happy\\\\SF1_F4_H04.wav',\n",
       " 'URDU-Dataset-master/Happy\\\\SF1_F5_H05.wav',\n",
       " 'URDU-Dataset-master/Happy\\\\SF1_F6_H06.wav',\n",
       " 'URDU-Dataset-master/Happy\\\\SF1_F7_H07.wav',\n",
       " 'URDU-Dataset-master/Happy\\\\SF1_F8_H08.wav',\n",
       " 'URDU-Dataset-master/Happy\\\\SF1_F9_H09.wav',\n",
       " 'URDU-Dataset-master/Happy\\\\SF2_F1_H013.wav',\n",
       " 'URDU-Dataset-master/Happy\\\\SF2_F2_H014.wav',\n",
       " 'URDU-Dataset-master/Happy\\\\SF3_F1_H015.wav',\n",
       " 'URDU-Dataset-master/Happy\\\\SF3_F2_H016.wav',\n",
       " 'URDU-Dataset-master/Happy\\\\SF4_F1_H017.wav',\n",
       " 'URDU-Dataset-master/Happy\\\\SF4_F2_H018.wav',\n",
       " 'URDU-Dataset-master/Happy\\\\SF4_F3_H019.wav',\n",
       " 'URDU-Dataset-master/Happy\\\\SF4_F4_H020.wav',\n",
       " 'URDU-Dataset-master/Happy\\\\SF5_F1_H021.wav',\n",
       " 'URDU-Dataset-master/Happy\\\\SF5_F2_H022.wav',\n",
       " 'URDU-Dataset-master/Happy\\\\SF5_F3_H023.wav',\n",
       " 'URDU-Dataset-master/Happy\\\\SF5_F4_H024.wav',\n",
       " 'URDU-Dataset-master/Happy\\\\SF6_F10_H034.wav',\n",
       " 'URDU-Dataset-master/Happy\\\\SF6_F11_H035.wav',\n",
       " 'URDU-Dataset-master/Happy\\\\SF6_F12_H036.wav',\n",
       " 'URDU-Dataset-master/Happy\\\\SF6_F13_H037.wav',\n",
       " 'URDU-Dataset-master/Happy\\\\SF6_F14_H038.wav',\n",
       " 'URDU-Dataset-master/Happy\\\\SF6_F1_H025.wav',\n",
       " 'URDU-Dataset-master/Happy\\\\SF6_F2_H026.wav',\n",
       " 'URDU-Dataset-master/Happy\\\\SF6_F3_H027.wav',\n",
       " 'URDU-Dataset-master/Happy\\\\SF6_F4_H028.wav',\n",
       " 'URDU-Dataset-master/Happy\\\\SF6_F5_H029.wav',\n",
       " 'URDU-Dataset-master/Happy\\\\SF6_F6_H030.wav',\n",
       " 'URDU-Dataset-master/Happy\\\\SF6_F7_H031.wav',\n",
       " 'URDU-Dataset-master/Happy\\\\SF6_F8_H032.wav',\n",
       " 'URDU-Dataset-master/Happy\\\\SF6_F9_H033.wav',\n",
       " 'URDU-Dataset-master/Happy\\\\SF7_F1_H039.wav',\n",
       " 'URDU-Dataset-master/Happy\\\\SF7_F2_H040.wav',\n",
       " 'URDU-Dataset-master/Happy\\\\SF7_F3_H041.wav',\n",
       " 'URDU-Dataset-master/Happy\\\\SF7_F4_H042.wav',\n",
       " 'URDU-Dataset-master/Happy\\\\SF7_F5_H043.wav',\n",
       " 'URDU-Dataset-master/Happy\\\\SF7_F6_H044.wav',\n",
       " 'URDU-Dataset-master/Happy\\\\SF8_F1_H045.wav',\n",
       " 'URDU-Dataset-master/Happy\\\\SF8_F2_H046.wav',\n",
       " 'URDU-Dataset-master/Happy\\\\SM17_F1_H047.wav',\n",
       " 'URDU-Dataset-master/Happy\\\\SM17_F2_H048.wav',\n",
       " 'URDU-Dataset-master/Happy\\\\SM18_F1_H049.wav',\n",
       " 'URDU-Dataset-master/Happy\\\\SM18_F2_H050.wav',\n",
       " 'URDU-Dataset-master/Happy\\\\SM19_F1_H051.wav',\n",
       " 'URDU-Dataset-master/Happy\\\\SM19_F2_H052.wav',\n",
       " 'URDU-Dataset-master/Happy\\\\SM3_F1_H053.wav',\n",
       " 'URDU-Dataset-master/Happy\\\\SM3_F2_H054.wav',\n",
       " 'URDU-Dataset-master/Happy\\\\SM5_F1_H055.wav',\n",
       " 'URDU-Dataset-master/Happy\\\\SM5_F2_H056.wav',\n",
       " 'URDU-Dataset-master/Happy\\\\SM5_F3_H057.wav',\n",
       " 'URDU-Dataset-master/Happy\\\\SM5_F4_H058.wav',\n",
       " 'URDU-Dataset-master/Happy\\\\SM5_F5_H059.wav',\n",
       " 'URDU-Dataset-master/Happy\\\\SM5_F6_H060.wav',\n",
       " 'URDU-Dataset-master/Happy\\\\SM5_F7_H061.wav',\n",
       " 'URDU-Dataset-master/Happy\\\\SM5_F8_H062.wav',\n",
       " 'URDU-Dataset-master/Happy\\\\SM6_F10_H072.wav',\n",
       " 'URDU-Dataset-master/Happy\\\\SM6_F1_H063.wav',\n",
       " 'URDU-Dataset-master/Happy\\\\SM6_F2_H064.wav',\n",
       " 'URDU-Dataset-master/Happy\\\\SM6_F3_H065.wav',\n",
       " 'URDU-Dataset-master/Happy\\\\SM6_F4_H066.wav',\n",
       " 'URDU-Dataset-master/Happy\\\\SM6_F5_H067.wav',\n",
       " 'URDU-Dataset-master/Happy\\\\SM6_F6_H068.wav',\n",
       " 'URDU-Dataset-master/Happy\\\\SM6_F7_H069.wav',\n",
       " 'URDU-Dataset-master/Happy\\\\SM6_F8_H070.wav',\n",
       " 'URDU-Dataset-master/Happy\\\\SM6_F9_H071.wav',\n",
       " 'URDU-Dataset-master/Happy\\\\SM7_F10_H082.wav',\n",
       " 'URDU-Dataset-master/Happy\\\\SM7_F11_H083.wav',\n",
       " 'URDU-Dataset-master/Happy\\\\SM7_F12_H084.wav',\n",
       " 'URDU-Dataset-master/Happy\\\\SM7_F13_H085.wav',\n",
       " 'URDU-Dataset-master/Happy\\\\SM7_F14_H086.wav',\n",
       " 'URDU-Dataset-master/Happy\\\\SM7_F15_H087.wav',\n",
       " 'URDU-Dataset-master/Happy\\\\SM7_F16_H088.wav',\n",
       " 'URDU-Dataset-master/Happy\\\\SM7_F17_H089.wav',\n",
       " 'URDU-Dataset-master/Happy\\\\SM7_F18_H090.wav',\n",
       " 'URDU-Dataset-master/Happy\\\\SM7_F19_H091.wav',\n",
       " 'URDU-Dataset-master/Happy\\\\SM7_F1_H073.wav',\n",
       " 'URDU-Dataset-master/Happy\\\\SM7_F20_H092.wav',\n",
       " 'URDU-Dataset-master/Happy\\\\SM7_F21_H093.wav',\n",
       " 'URDU-Dataset-master/Happy\\\\SM7_F22_H094.wav',\n",
       " 'URDU-Dataset-master/Happy\\\\SM7_F23_H095.wav',\n",
       " 'URDU-Dataset-master/Happy\\\\SM7_F24_H096.wav',\n",
       " 'URDU-Dataset-master/Happy\\\\SM7_F25_H097.wav',\n",
       " 'URDU-Dataset-master/Happy\\\\SM7_F26_H098.wav',\n",
       " 'URDU-Dataset-master/Happy\\\\SM7_F27_H099.wav',\n",
       " 'URDU-Dataset-master/Happy\\\\SM7_F28_H0100.wav',\n",
       " 'URDU-Dataset-master/Happy\\\\SM7_F2_H074.wav',\n",
       " 'URDU-Dataset-master/Happy\\\\SM7_F3_H075.wav',\n",
       " 'URDU-Dataset-master/Happy\\\\SM7_F4_H076.wav',\n",
       " 'URDU-Dataset-master/Happy\\\\SM7_F5_H077.wav',\n",
       " 'URDU-Dataset-master/Happy\\\\SM7_F6_H078.wav',\n",
       " 'URDU-Dataset-master/Happy\\\\SM7_F7_H079.wav',\n",
       " 'URDU-Dataset-master/Happy\\\\SM7_F8_H080.wav',\n",
       " 'URDU-Dataset-master/Happy\\\\SM7_F9_H081.wav',\n",
       " 'Audio-Classification-master/Audio_data/angry\\\\Recording (10).wav',\n",
       " 'Audio-Classification-master/Audio_data/angry\\\\Recording (11).wav',\n",
       " 'Audio-Classification-master/Audio_data/angry\\\\Recording (12).wav',\n",
       " 'Audio-Classification-master/Audio_data/angry\\\\Recording (13).wav',\n",
       " 'Audio-Classification-master/Audio_data/angry\\\\Recording (14).wav',\n",
       " 'Audio-Classification-master/Audio_data/angry\\\\Recording (15).wav',\n",
       " 'Audio-Classification-master/Audio_data/angry\\\\Recording (16).wav',\n",
       " 'Audio-Classification-master/Audio_data/angry\\\\Recording (17).wav',\n",
       " 'Audio-Classification-master/Audio_data/angry\\\\Recording (18).wav',\n",
       " 'Audio-Classification-master/Audio_data/angry\\\\Recording (19).wav',\n",
       " 'Audio-Classification-master/Audio_data/angry\\\\Recording (2).wav',\n",
       " 'Audio-Classification-master/Audio_data/angry\\\\Recording (20).wav',\n",
       " 'Audio-Classification-master/Audio_data/angry\\\\Recording (21).wav',\n",
       " 'Audio-Classification-master/Audio_data/angry\\\\Recording (22).wav',\n",
       " 'Audio-Classification-master/Audio_data/angry\\\\Recording (23).wav',\n",
       " 'Audio-Classification-master/Audio_data/angry\\\\Recording (24).wav',\n",
       " 'Audio-Classification-master/Audio_data/angry\\\\Recording (25).wav',\n",
       " 'Audio-Classification-master/Audio_data/angry\\\\Recording (26).wav',\n",
       " 'Audio-Classification-master/Audio_data/angry\\\\Recording (27).wav',\n",
       " 'Audio-Classification-master/Audio_data/angry\\\\Recording (28).wav',\n",
       " 'Audio-Classification-master/Audio_data/angry\\\\Recording (29).wav',\n",
       " 'Audio-Classification-master/Audio_data/angry\\\\Recording (3).wav',\n",
       " 'Audio-Classification-master/Audio_data/angry\\\\Recording (30).wav',\n",
       " 'Audio-Classification-master/Audio_data/angry\\\\Recording (31).wav',\n",
       " 'Audio-Classification-master/Audio_data/angry\\\\Recording (32).wav',\n",
       " 'Audio-Classification-master/Audio_data/angry\\\\Recording (33).wav',\n",
       " 'Audio-Classification-master/Audio_data/angry\\\\Recording (34).wav',\n",
       " 'Audio-Classification-master/Audio_data/angry\\\\Recording (35).wav',\n",
       " 'Audio-Classification-master/Audio_data/angry\\\\Recording (36).wav',\n",
       " 'Audio-Classification-master/Audio_data/angry\\\\Recording (37).wav',\n",
       " 'Audio-Classification-master/Audio_data/angry\\\\Recording (38).wav',\n",
       " 'Audio-Classification-master/Audio_data/angry\\\\Recording (39).wav',\n",
       " 'Audio-Classification-master/Audio_data/angry\\\\Recording (4).wav',\n",
       " 'Audio-Classification-master/Audio_data/angry\\\\Recording (40).wav',\n",
       " 'Audio-Classification-master/Audio_data/angry\\\\Recording (41).wav',\n",
       " 'Audio-Classification-master/Audio_data/angry\\\\Recording (42).wav',\n",
       " 'Audio-Classification-master/Audio_data/angry\\\\Recording (43).wav',\n",
       " 'Audio-Classification-master/Audio_data/angry\\\\Recording (44).wav',\n",
       " 'Audio-Classification-master/Audio_data/angry\\\\Recording (45).wav',\n",
       " 'Audio-Classification-master/Audio_data/angry\\\\Recording (46).wav',\n",
       " 'Audio-Classification-master/Audio_data/angry\\\\Recording (47).wav',\n",
       " 'Audio-Classification-master/Audio_data/angry\\\\Recording (48).wav',\n",
       " 'Audio-Classification-master/Audio_data/angry\\\\Recording (49).wav',\n",
       " 'Audio-Classification-master/Audio_data/angry\\\\Recording (5).wav',\n",
       " 'Audio-Classification-master/Audio_data/angry\\\\Recording (50).wav',\n",
       " 'Audio-Classification-master/Audio_data/angry\\\\Recording (51).wav',\n",
       " 'Audio-Classification-master/Audio_data/angry\\\\Recording (6).wav',\n",
       " 'Audio-Classification-master/Audio_data/angry\\\\Recording (7).wav',\n",
       " 'Audio-Classification-master/Audio_data/angry\\\\Recording (8).wav',\n",
       " 'Audio-Classification-master/Audio_data/angry\\\\Recording (9).wav',\n",
       " 'URDU-Dataset-master/Angry\\\\SM1_F10_A010.wav',\n",
       " 'URDU-Dataset-master/Angry\\\\SM1_F11_A011.wav',\n",
       " 'URDU-Dataset-master/Angry\\\\SM1_F12_A012.wav',\n",
       " 'URDU-Dataset-master/Angry\\\\SM1_F13_A013.wav',\n",
       " 'URDU-Dataset-master/Angry\\\\SM1_F14_A014.wav',\n",
       " 'URDU-Dataset-master/Angry\\\\SM1_F15_A015.wav',\n",
       " 'URDU-Dataset-master/Angry\\\\SM1_F16_A016.wav',\n",
       " 'URDU-Dataset-master/Angry\\\\SM1_F17_A017.wav',\n",
       " 'URDU-Dataset-master/Angry\\\\SM1_F18_A018.wav',\n",
       " 'URDU-Dataset-master/Angry\\\\SM1_F19_A019.wav',\n",
       " 'URDU-Dataset-master/Angry\\\\SM1_F1_A01.wav',\n",
       " 'URDU-Dataset-master/Angry\\\\SM1_F20_A020.wav',\n",
       " 'URDU-Dataset-master/Angry\\\\SM1_F21_A021.wav',\n",
       " 'URDU-Dataset-master/Angry\\\\SM1_F22_A022.wav',\n",
       " 'URDU-Dataset-master/Angry\\\\SM1_F2_A02.wav',\n",
       " 'URDU-Dataset-master/Angry\\\\SM1_F3_A03.wav',\n",
       " 'URDU-Dataset-master/Angry\\\\SM1_F4_A04.wav',\n",
       " 'URDU-Dataset-master/Angry\\\\SM1_F5_A05.wav',\n",
       " 'URDU-Dataset-master/Angry\\\\SM1_F6_A06.wav',\n",
       " 'URDU-Dataset-master/Angry\\\\SM1_F7_A07.wav',\n",
       " 'URDU-Dataset-master/Angry\\\\SM1_F8_A08.wav',\n",
       " 'URDU-Dataset-master/Angry\\\\SM1_F9_A09.wav',\n",
       " 'URDU-Dataset-master/Angry\\\\SM2_F10_A032.wav',\n",
       " 'URDU-Dataset-master/Angry\\\\SM2_F11_A033.wav',\n",
       " 'URDU-Dataset-master/Angry\\\\SM2_F12_A034.wav',\n",
       " 'URDU-Dataset-master/Angry\\\\SM2_F13_A035.wav',\n",
       " 'URDU-Dataset-master/Angry\\\\SM2_F14_A036.wav',\n",
       " 'URDU-Dataset-master/Angry\\\\SM2_F15_A037.wav',\n",
       " 'URDU-Dataset-master/Angry\\\\SM2_F16_A038.wav',\n",
       " 'URDU-Dataset-master/Angry\\\\SM2_F17_A039.wav',\n",
       " 'URDU-Dataset-master/Angry\\\\SM2_F18_A040.wav',\n",
       " 'URDU-Dataset-master/Angry\\\\SM2_F19_A041.wav',\n",
       " 'URDU-Dataset-master/Angry\\\\SM2_F1_A023.wav',\n",
       " 'URDU-Dataset-master/Angry\\\\SM2_F20_A042.wav',\n",
       " 'URDU-Dataset-master/Angry\\\\SM2_F21_A043.wav',\n",
       " 'URDU-Dataset-master/Angry\\\\SM2_F22_A044.wav',\n",
       " 'URDU-Dataset-master/Angry\\\\SM2_F23_A045.wav',\n",
       " 'URDU-Dataset-master/Angry\\\\SM2_F24_A046.wav',\n",
       " 'URDU-Dataset-master/Angry\\\\SM2_F25_A047.wav',\n",
       " 'URDU-Dataset-master/Angry\\\\SM2_F26_A048.wav',\n",
       " 'URDU-Dataset-master/Angry\\\\SM2_F27_A049.wav',\n",
       " 'URDU-Dataset-master/Angry\\\\SM2_F28_A050.wav',\n",
       " 'URDU-Dataset-master/Angry\\\\SM2_F2_A024.wav',\n",
       " 'URDU-Dataset-master/Angry\\\\SM2_F3_A025.wav',\n",
       " 'URDU-Dataset-master/Angry\\\\SM2_F4_A026.wav',\n",
       " 'URDU-Dataset-master/Angry\\\\SM2_F5_A027.wav',\n",
       " 'URDU-Dataset-master/Angry\\\\SM2_F6_A028.wav',\n",
       " 'URDU-Dataset-master/Angry\\\\SM2_F7_A029.wav',\n",
       " 'URDU-Dataset-master/Angry\\\\SM2_F8_A030.wav',\n",
       " 'URDU-Dataset-master/Angry\\\\SM2_F9_A031.wav',\n",
       " 'URDU-Dataset-master/Angry\\\\SM3_F1_A051.wav',\n",
       " 'URDU-Dataset-master/Angry\\\\SM3_F2_A052.wav',\n",
       " 'URDU-Dataset-master/Angry\\\\SM4_F10_A062.wav',\n",
       " 'URDU-Dataset-master/Angry\\\\SM4_F11_A063.wav',\n",
       " 'URDU-Dataset-master/Angry\\\\SM4_F12_A064.wav',\n",
       " 'URDU-Dataset-master/Angry\\\\SM4_F13_A065.wav',\n",
       " 'URDU-Dataset-master/Angry\\\\SM4_F14_A066.wav',\n",
       " 'URDU-Dataset-master/Angry\\\\SM4_F15_A067.wav',\n",
       " 'URDU-Dataset-master/Angry\\\\SM4_F16_A068.wav',\n",
       " 'URDU-Dataset-master/Angry\\\\SM4_F17_A069.wav',\n",
       " 'URDU-Dataset-master/Angry\\\\SM4_F18_A070.wav',\n",
       " 'URDU-Dataset-master/Angry\\\\SM4_F19_A071.wav',\n",
       " 'URDU-Dataset-master/Angry\\\\SM4_F1_A053.wav',\n",
       " 'URDU-Dataset-master/Angry\\\\SM4_F20_A072.wav',\n",
       " 'URDU-Dataset-master/Angry\\\\SM4_F21_A073.wav',\n",
       " 'URDU-Dataset-master/Angry\\\\SM4_F22_A074.wav',\n",
       " 'URDU-Dataset-master/Angry\\\\SM4_F23_A075.wav',\n",
       " 'URDU-Dataset-master/Angry\\\\SM4_F24_A076.wav',\n",
       " 'URDU-Dataset-master/Angry\\\\SM4_F25_A077.wav',\n",
       " 'URDU-Dataset-master/Angry\\\\SM4_F26_A078.wav',\n",
       " 'URDU-Dataset-master/Angry\\\\SM4_F27_A079.wav',\n",
       " 'URDU-Dataset-master/Angry\\\\SM4_F28_A080.wav',\n",
       " 'URDU-Dataset-master/Angry\\\\SM4_F29_A081.wav',\n",
       " 'URDU-Dataset-master/Angry\\\\SM4_F2_A054.wav',\n",
       " 'URDU-Dataset-master/Angry\\\\SM4_F30_A082.wav',\n",
       " 'URDU-Dataset-master/Angry\\\\SM4_F31_A083.wav',\n",
       " 'URDU-Dataset-master/Angry\\\\SM4_F32_A084.wav',\n",
       " 'URDU-Dataset-master/Angry\\\\SM4_F33_A085.wav',\n",
       " 'URDU-Dataset-master/Angry\\\\SM4_F34_A086.wav',\n",
       " 'URDU-Dataset-master/Angry\\\\SM4_F35_A087.wav',\n",
       " 'URDU-Dataset-master/Angry\\\\SM4_F36_A088.wav',\n",
       " 'URDU-Dataset-master/Angry\\\\SM4_F37_A089.wav',\n",
       " 'URDU-Dataset-master/Angry\\\\SM4_F38_A090.wav',\n",
       " 'URDU-Dataset-master/Angry\\\\SM4_F39_A091.wav',\n",
       " 'URDU-Dataset-master/Angry\\\\SM4_F3_A055.wav',\n",
       " 'URDU-Dataset-master/Angry\\\\SM4_F40_A092.wav',\n",
       " 'URDU-Dataset-master/Angry\\\\SM4_F41_A093.wav',\n",
       " 'URDU-Dataset-master/Angry\\\\SM4_F42_A094.wav',\n",
       " 'URDU-Dataset-master/Angry\\\\SM4_F43_A095.wav',\n",
       " 'URDU-Dataset-master/Angry\\\\SM4_F44_A096.wav',\n",
       " 'URDU-Dataset-master/Angry\\\\SM4_F45_A097.wav',\n",
       " 'URDU-Dataset-master/Angry\\\\SM4_F46_A098.wav',\n",
       " 'URDU-Dataset-master/Angry\\\\SM4_F47_A099.wav',\n",
       " 'URDU-Dataset-master/Angry\\\\SM4_F48_A0100.wav',\n",
       " 'URDU-Dataset-master/Angry\\\\SM4_F4_A056.wav',\n",
       " 'URDU-Dataset-master/Angry\\\\SM4_F5_A057.wav',\n",
       " 'URDU-Dataset-master/Angry\\\\SM4_F6_A058.wav',\n",
       " 'URDU-Dataset-master/Angry\\\\SM4_F7_A059.wav',\n",
       " 'URDU-Dataset-master/Angry\\\\SM4_F8_A060.wav',\n",
       " 'URDU-Dataset-master/Angry\\\\SM4_F9_A061.wav',\n",
       " 'Audio-Classification-master/Audio_data/neutral\\\\01Label.wav',\n",
       " 'Audio-Classification-master/Audio_data/neutral\\\\02Label.wav',\n",
       " 'Audio-Classification-master/Audio_data/neutral\\\\03Label.wav',\n",
       " 'Audio-Classification-master/Audio_data/neutral\\\\04Label.wav',\n",
       " 'Audio-Classification-master/Audio_data/neutral\\\\05Label.wav',\n",
       " 'Audio-Classification-master/Audio_data/neutral\\\\06Label.wav',\n",
       " 'Audio-Classification-master/Audio_data/neutral\\\\07Label.wav',\n",
       " 'Audio-Classification-master/Audio_data/neutral\\\\08Label.wav',\n",
       " 'Audio-Classification-master/Audio_data/neutral\\\\09Label.wav',\n",
       " 'Audio-Classification-master/Audio_data/neutral\\\\10Label.wav',\n",
       " 'Audio-Classification-master/Audio_data/neutral\\\\11Label.wav',\n",
       " 'Audio-Classification-master/Audio_data/neutral\\\\12Label.wav',\n",
       " 'Audio-Classification-master/Audio_data/neutral\\\\13Label.wav',\n",
       " 'Audio-Classification-master/Audio_data/neutral\\\\14Label.wav',\n",
       " 'Audio-Classification-master/Audio_data/neutral\\\\15Label.wav',\n",
       " 'Audio-Classification-master/Audio_data/neutral\\\\16Label.wav',\n",
       " 'Audio-Classification-master/Audio_data/neutral\\\\17Label.wav',\n",
       " 'Audio-Classification-master/Audio_data/neutral\\\\18Label.wav',\n",
       " 'Audio-Classification-master/Audio_data/neutral\\\\19Label.wav',\n",
       " 'Audio-Classification-master/Audio_data/neutral\\\\20Label.wav',\n",
       " 'Audio-Classification-master/Audio_data/neutral\\\\21Label.wav',\n",
       " 'Audio-Classification-master/Audio_data/neutral\\\\22Label.wav',\n",
       " 'Audio-Classification-master/Audio_data/neutral\\\\23Label.wav',\n",
       " 'Audio-Classification-master/Audio_data/neutral\\\\24Label.wav',\n",
       " 'Audio-Classification-master/Audio_data/neutral\\\\25Label.wav',\n",
       " 'Audio-Classification-master/Audio_data/neutral\\\\26Label.wav',\n",
       " 'Audio-Classification-master/Audio_data/neutral\\\\27Label.wav',\n",
       " 'Audio-Classification-master/Audio_data/neutral\\\\28Label.wav',\n",
       " 'Audio-Classification-master/Audio_data/neutral\\\\29Label.wav',\n",
       " 'Audio-Classification-master/Audio_data/neutral\\\\30Label.wav',\n",
       " 'Audio-Classification-master/Audio_data/neutral\\\\31Label.wav',\n",
       " 'Audio-Classification-master/Audio_data/neutral\\\\32Label.wav',\n",
       " 'Audio-Classification-master/Audio_data/neutral\\\\33Label.wav',\n",
       " 'Audio-Classification-master/Audio_data/neutral\\\\34Label.wav',\n",
       " 'Audio-Classification-master/Audio_data/neutral\\\\35Label.wav',\n",
       " 'Audio-Classification-master/Audio_data/neutral\\\\36Label.wav',\n",
       " 'Audio-Classification-master/Audio_data/neutral\\\\37Label.wav',\n",
       " 'Audio-Classification-master/Audio_data/neutral\\\\38Label.wav',\n",
       " 'Audio-Classification-master/Audio_data/neutral\\\\39Label.wav',\n",
       " 'Audio-Classification-master/Audio_data/neutral\\\\40Label.wav',\n",
       " 'Audio-Classification-master/Audio_data/neutral\\\\41Label.wav',\n",
       " 'Audio-Classification-master/Audio_data/neutral\\\\42Label.wav',\n",
       " 'Audio-Classification-master/Audio_data/neutral\\\\43Label.wav',\n",
       " 'Audio-Classification-master/Audio_data/neutral\\\\44Label.wav',\n",
       " 'Audio-Classification-master/Audio_data/neutral\\\\45Label.wav',\n",
       " 'Audio-Classification-master/Audio_data/neutral\\\\46Label.wav',\n",
       " 'Audio-Classification-master/Audio_data/neutral\\\\47Label.wav',\n",
       " 'Audio-Classification-master/Audio_data/neutral\\\\48Label.wav',\n",
       " 'Audio-Classification-master/Audio_data/neutral\\\\49Label.wav',\n",
       " 'Audio-Classification-master/Audio_data/neutral\\\\50Label.wav',\n",
       " 'Audio-Classification-master/Audio_data/neutral\\\\51Label.wav',\n",
       " 'Audio-Classification-master/Audio_data/neutral\\\\52Label.wav',\n",
       " 'Audio-Classification-master/Audio_data/neutral\\\\53Label.wav',\n",
       " 'Audio-Classification-master/Audio_data/neutral\\\\54Label.wav',\n",
       " 'Audio-Classification-master/Audio_data/neutral\\\\55Label.wav',\n",
       " 'Audio-Classification-master/Audio_data/neutral\\\\56Label.wav',\n",
       " 'Audio-Classification-master/Audio_data/neutral\\\\57Label.wav',\n",
       " 'Audio-Classification-master/Audio_data/neutral\\\\58Label.wav',\n",
       " 'Audio-Classification-master/Audio_data/neutral\\\\59Label.wav',\n",
       " 'Audio-Classification-master/Audio_data/neutral\\\\60Label.wav',\n",
       " 'URDU-Dataset-master/Neutral\\\\SF9_F1_N01.wav',\n",
       " 'URDU-Dataset-master/Neutral\\\\SF9_F2_N02.wav',\n",
       " 'URDU-Dataset-master/Neutral\\\\SF9_F3_N03.wav',\n",
       " 'URDU-Dataset-master/Neutral\\\\SF9_F4_N04.wav',\n",
       " 'URDU-Dataset-master/Neutral\\\\SM20_F10_N014.wav',\n",
       " 'URDU-Dataset-master/Neutral\\\\SM20_F1_N05.wav',\n",
       " 'URDU-Dataset-master/Neutral\\\\SM20_F2_N06.wav',\n",
       " 'URDU-Dataset-master/Neutral\\\\SM20_F3_N07.wav',\n",
       " 'URDU-Dataset-master/Neutral\\\\SM20_F4_N08.wav',\n",
       " 'URDU-Dataset-master/Neutral\\\\SM20_F5_N09.wav',\n",
       " 'URDU-Dataset-master/Neutral\\\\SM20_F6_N010.wav',\n",
       " 'URDU-Dataset-master/Neutral\\\\SM20_F7_N011.wav',\n",
       " 'URDU-Dataset-master/Neutral\\\\SM20_F8_N012.wav',\n",
       " 'URDU-Dataset-master/Neutral\\\\SM20_F9_N013.wav',\n",
       " 'URDU-Dataset-master/Neutral\\\\SM21_F1_N015.wav',\n",
       " 'URDU-Dataset-master/Neutral\\\\SM21_F2_N016.wav',\n",
       " 'URDU-Dataset-master/Neutral\\\\SM21_F3_N017.wav',\n",
       " 'URDU-Dataset-master/Neutral\\\\SM21_F4_N018.wav',\n",
       " 'URDU-Dataset-master/Neutral\\\\SM22_F1_N019.wav',\n",
       " 'URDU-Dataset-master/Neutral\\\\SM22_F2_N020.wav',\n",
       " 'URDU-Dataset-master/Neutral\\\\SM3_F1_N021.wav',\n",
       " 'URDU-Dataset-master/Neutral\\\\SM3_F2_N022.wav',\n",
       " 'URDU-Dataset-master/Neutral\\\\SM3_F3_N023.wav',\n",
       " 'URDU-Dataset-master/Neutral\\\\SM3_F4_N024.wav',\n",
       " 'URDU-Dataset-master/Neutral\\\\SM3_F5_N025.wav',\n",
       " 'URDU-Dataset-master/Neutral\\\\SM3_F6_N026.wav',\n",
       " 'URDU-Dataset-master/Neutral\\\\SM3_F7_N027.wav',\n",
       " 'URDU-Dataset-master/Neutral\\\\SM3_F8_N028.wav',\n",
       " 'URDU-Dataset-master/Neutral\\\\SM5_F10_N038.wav',\n",
       " 'URDU-Dataset-master/Neutral\\\\SM5_F11_N039.wav',\n",
       " 'URDU-Dataset-master/Neutral\\\\SM5_F12_N040.wav',\n",
       " 'URDU-Dataset-master/Neutral\\\\SM5_F13_N041.wav',\n",
       " 'URDU-Dataset-master/Neutral\\\\SM5_F14_N042.wav',\n",
       " 'URDU-Dataset-master/Neutral\\\\SM5_F15_N043.wav',\n",
       " 'URDU-Dataset-master/Neutral\\\\SM5_F16_N044.wav',\n",
       " 'URDU-Dataset-master/Neutral\\\\SM5_F17_N045.wav',\n",
       " 'URDU-Dataset-master/Neutral\\\\SM5_F18_N046.wav',\n",
       " 'URDU-Dataset-master/Neutral\\\\SM5_F19_N047.wav',\n",
       " 'URDU-Dataset-master/Neutral\\\\SM5_F1_N029.wav',\n",
       " 'URDU-Dataset-master/Neutral\\\\SM5_F20_N048.wav',\n",
       " 'URDU-Dataset-master/Neutral\\\\SM5_F21_N049.wav',\n",
       " 'URDU-Dataset-master/Neutral\\\\SM5_F22_N050.wav',\n",
       " 'URDU-Dataset-master/Neutral\\\\SM5_F23_N051.wav',\n",
       " 'URDU-Dataset-master/Neutral\\\\SM5_F24_N052.wav',\n",
       " 'URDU-Dataset-master/Neutral\\\\SM5_F25_N053.wav',\n",
       " 'URDU-Dataset-master/Neutral\\\\SM5_F26_N054.wav',\n",
       " 'URDU-Dataset-master/Neutral\\\\SM5_F27_N055.wav',\n",
       " 'URDU-Dataset-master/Neutral\\\\SM5_F28_N056.wav',\n",
       " 'URDU-Dataset-master/Neutral\\\\SM5_F29_N057.wav',\n",
       " 'URDU-Dataset-master/Neutral\\\\SM5_F2_N030.wav',\n",
       " 'URDU-Dataset-master/Neutral\\\\SM5_F30_N058.wav',\n",
       " 'URDU-Dataset-master/Neutral\\\\SM5_F31_N059.wav',\n",
       " 'URDU-Dataset-master/Neutral\\\\SM5_F32_N060.wav',\n",
       " 'URDU-Dataset-master/Neutral\\\\SM5_F33_N061.wav',\n",
       " 'URDU-Dataset-master/Neutral\\\\SM5_F34_N062.wav',\n",
       " 'URDU-Dataset-master/Neutral\\\\SM5_F35_N063.wav',\n",
       " 'URDU-Dataset-master/Neutral\\\\SM5_F36_N064.wav',\n",
       " 'URDU-Dataset-master/Neutral\\\\SM5_F37_N065.wav',\n",
       " 'URDU-Dataset-master/Neutral\\\\SM5_F38_N066.wav',\n",
       " 'URDU-Dataset-master/Neutral\\\\SM5_F39_N067.wav',\n",
       " 'URDU-Dataset-master/Neutral\\\\SM5_F3_N031.wav',\n",
       " 'URDU-Dataset-master/Neutral\\\\SM5_F40_N068.wav',\n",
       " 'URDU-Dataset-master/Neutral\\\\SM5_F41_N069.wav',\n",
       " 'URDU-Dataset-master/Neutral\\\\SM5_F42_N070.wav',\n",
       " 'URDU-Dataset-master/Neutral\\\\SM5_F43_N071.wav',\n",
       " 'URDU-Dataset-master/Neutral\\\\SM5_F44_N072.wav',\n",
       " 'URDU-Dataset-master/Neutral\\\\SM5_F45_N073.wav',\n",
       " 'URDU-Dataset-master/Neutral\\\\SM5_F46_N074.wav',\n",
       " 'URDU-Dataset-master/Neutral\\\\SM5_F47_N075.wav',\n",
       " 'URDU-Dataset-master/Neutral\\\\SM5_F48_N076.wav',\n",
       " 'URDU-Dataset-master/Neutral\\\\SM5_F49_N077.wav',\n",
       " 'URDU-Dataset-master/Neutral\\\\SM5_F4_N032.wav',\n",
       " 'URDU-Dataset-master/Neutral\\\\SM5_F50_N078.wav',\n",
       " 'URDU-Dataset-master/Neutral\\\\SM5_F51_N079.wav',\n",
       " 'URDU-Dataset-master/Neutral\\\\SM5_F52_N080.wav',\n",
       " 'URDU-Dataset-master/Neutral\\\\SM5_F53_N081.wav',\n",
       " 'URDU-Dataset-master/Neutral\\\\SM5_F54_N082.wav',\n",
       " 'URDU-Dataset-master/Neutral\\\\SM5_F55_N083.wav',\n",
       " 'URDU-Dataset-master/Neutral\\\\SM5_F56_N084.wav',\n",
       " 'URDU-Dataset-master/Neutral\\\\SM5_F57_N085.wav',\n",
       " 'URDU-Dataset-master/Neutral\\\\SM5_F58_N086.wav',\n",
       " 'URDU-Dataset-master/Neutral\\\\SM5_F59_N087.wav',\n",
       " 'URDU-Dataset-master/Neutral\\\\SM5_F5_N033.wav',\n",
       " 'URDU-Dataset-master/Neutral\\\\SM5_F60_N088.wav',\n",
       " 'URDU-Dataset-master/Neutral\\\\SM5_F61_N089.wav',\n",
       " 'URDU-Dataset-master/Neutral\\\\SM5_F62_N090.wav',\n",
       " 'URDU-Dataset-master/Neutral\\\\SM5_F63_N091.wav',\n",
       " 'URDU-Dataset-master/Neutral\\\\SM5_F64_N092.wav',\n",
       " 'URDU-Dataset-master/Neutral\\\\SM5_F65_N093.wav',\n",
       " 'URDU-Dataset-master/Neutral\\\\SM5_F66_N094.wav',\n",
       " 'URDU-Dataset-master/Neutral\\\\SM5_F67_N095.wav',\n",
       " 'URDU-Dataset-master/Neutral\\\\SM5_F68_N096.wav',\n",
       " 'URDU-Dataset-master/Neutral\\\\SM5_F69_N097.wav',\n",
       " 'URDU-Dataset-master/Neutral\\\\SM5_F6_N034.wav',\n",
       " 'URDU-Dataset-master/Neutral\\\\SM5_F70_N098.wav',\n",
       " 'URDU-Dataset-master/Neutral\\\\SM5_F71_N099.wav',\n",
       " 'URDU-Dataset-master/Neutral\\\\SM5_F72_N0100.wav',\n",
       " 'URDU-Dataset-master/Neutral\\\\SM5_F7_N035.wav',\n",
       " 'URDU-Dataset-master/Neutral\\\\SM5_F8_N036.wav',\n",
       " 'URDU-Dataset-master/Neutral\\\\SM5_F9_N037.wav']"
      ]
     },
     "execution_count": 6,
     "metadata": {},
     "output_type": "execute_result"
    }
   ],
   "source": [
    "paths"
   ]
  },
  {
   "cell_type": "code",
   "execution_count": 7,
   "id": "ac3a76f7",
   "metadata": {},
   "outputs": [
    {
     "data": {
      "image/png": "[encoded data removed]",
      "text/plain": [
       "<Figure size 432x288 with 1 Axes>"
      ]
     },
     "metadata": {
      "needs_background": "light"
     },
     "output_type": "display_data"
    }
   ],
   "source": [
    "\n",
    "y_angry = librosa.load(angry[0])\n",
    "y_angry_time = librosa.frames_to_time(y_angry[0])\n",
    "plt.plot(y_angry_time)\n",
    "plt.xlabel('time -->')\n",
    "plt.ylabel('Amplitude -->')\n",
    "plt.title('Waveform for angry audio')\n",
    "plt.show()"
   ]
  },
  {
   "cell_type": "code",
   "execution_count": 8,
   "id": "fb96c932",
   "metadata": {},
   "outputs": [
    {
     "data": {
      "image/png": "[encoded data removed]",
      "text/plain": [
       "<Figure size 432x288 with 2 Axes>"
      ]
     },
     "metadata": {
      "needs_background": "light"
     },
     "output_type": "display_data"
    }
   ],
   "source": [
    "spec_angry = librosa.feature.mfcc(y_angry_time)\n",
    "spec_angry = librosa.amplitude_to_db(spec_angry)\n",
    "\n",
    "librosa.display.specshow(spec_angry, x_axis='time', y_axis='mel')\n",
    "\n",
    "\n",
    "plt.title('mel power spectrogram')\n",
    "\n",
    "\n",
    "plt.colorbar(format='%+02.0f dB')\n",
    "\n",
    "plt.tight_layout()\n"
   ]
  },
  {
   "cell_type": "code",
   "execution_count": null,
   "id": "86524a0c",
   "metadata": {
    "scrolled": true
   },
   "outputs": [],
   "source": []
  },
  {
   "cell_type": "code",
   "execution_count": null,
   "id": "809e9cb5",
   "metadata": {},
   "outputs": [],
   "source": []
  },
  {
   "cell_type": "code",
   "execution_count": 9,
   "id": "17e4772c",
   "metadata": {},
   "outputs": [
    {
     "data": {
      "image/png": "[encoded data removed]",
      "text/plain": [
       "<Figure size 432x288 with 2 Axes>"
      ]
     },
     "metadata": {
      "needs_background": "light"
     },
     "output_type": "display_data"
    }
   ],
   "source": [
    "spec_angry = librosa.feature.chroma_stft(y_angry_time)\n",
    "spec_angry = librosa.amplitude_to_db(spec_angry)\n",
    "librosa.display.specshow(spec_angry, y_axis='chroma', x_axis='time')\n",
    "plt.title('Chromogram')\n",
    "\n",
    "\n",
    "plt.colorbar(format='%+02.0f dB')\n",
    "\n",
    "plt.tight_layout()"
   ]
  },
  {
   "cell_type": "code",
   "execution_count": null,
   "id": "0782075c",
   "metadata": {},
   "outputs": [],
   "source": []
  },
  {
   "cell_type": "code",
   "execution_count": 10,
   "id": "a7a22f49",
   "metadata": {},
   "outputs": [
    {
     "data": {
      "image/png": "[encoded data removed]",
      "text/plain": [
       "<Figure size 432x288 with 1 Axes>"
      ]
     },
     "metadata": {
      "needs_background": "light"
     },
     "output_type": "display_data"
    }
   ],
   "source": [
    "#neutral\n",
    "y_neutral,sr = librosa.load(neutral[10])\n",
    "y_neutral_time = librosa.frames_to_time(y_neutral)\n",
    "plt.plot(y_neutral_time)\n",
    "plt.xlabel('time -->')\n",
    "plt.ylabel('Amplitude -->')\n",
    "plt.title('Waveform for neutral audio')\n",
    "plt.show()"
   ]
  },
  {
   "cell_type": "code",
   "execution_count": 11,
   "id": "8b6731d6",
   "metadata": {
    "scrolled": true
   },
   "outputs": [
    {
     "data": {
      "image/png": "[encoded data removed]",
      "text/plain": [
       "<Figure size 432x288 with 2 Axes>"
      ]
     },
     "metadata": {
      "needs_background": "light"
     },
     "output_type": "display_data"
    }
   ],
   "source": [
    "spec_neutral = librosa.feature.mfcc(y_neutral_time)\n",
    "spec_neutral = librosa.amplitude_to_db(spec_neutral)\n",
    "librosa.display.specshow(spec_neutral, sr=sr, x_axis='time', y_axis='mel')\n",
    "\n",
    "\n",
    "plt.title('mel power spectrogram')\n",
    "\n",
    "\n",
    "plt.colorbar(format='%+02.0f dB')\n",
    "\n",
    "plt.tight_layout()"
   ]
  },
  {
   "cell_type": "code",
   "execution_count": null,
   "id": "393e045d",
   "metadata": {},
   "outputs": [],
   "source": []
  },
  {
   "cell_type": "code",
   "execution_count": 12,
   "id": "bd0a598b",
   "metadata": {},
   "outputs": [
    {
     "data": {
      "image/png": "[encoded data removed]",
      "text/plain": [
       "<Figure size 432x288 with 2 Axes>"
      ]
     },
     "metadata": {
      "needs_background": "light"
     },
     "output_type": "display_data"
    }
   ],
   "source": [
    "spec_neutral = librosa.feature.chroma_stft(y_neutral)\n",
    "spec_neutral = librosa.amplitude_to_db(spec_neutral)\n",
    "librosa.display.specshow(spec_neutral, y_axis='chroma', x_axis='time')\n",
    "plt.title('Chromogram')\n",
    "\n",
    "\n",
    "plt.colorbar(format='%+02.0f dB')\n",
    "\n",
    "plt.tight_layout()"
   ]
  },
  {
   "cell_type": "code",
   "execution_count": 13,
   "id": "b364b619",
   "metadata": {},
   "outputs": [
    {
     "data": {
      "image/png": "[encoded data removed]",
      "text/plain": [
       "<Figure size 432x288 with 1 Axes>"
      ]
     },
     "metadata": {
      "needs_background": "light"
     },
     "output_type": "display_data"
    }
   ],
   "source": [
    "y_positive,sr = librosa.load(positive[0])\n",
    "y_pos_time = librosa.frames_to_time(y_positive)\n",
    "plt.plot(y_pos_time)\n",
    "plt.xlabel('time -->')\n",
    "plt.ylabel('Amplitude -->')\n",
    "plt.title('Waveform for positive audio')\n",
    "plt.show()"
   ]
  },
  {
   "cell_type": "code",
   "execution_count": 14,
   "id": "a3daa29d",
   "metadata": {},
   "outputs": [
    {
     "data": {
      "image/png": "[encoded data removed]",
      "text/plain": [
       "<Figure size 432x288 with 2 Axes>"
      ]
     },
     "metadata": {
      "needs_background": "light"
     },
     "output_type": "display_data"
    }
   ],
   "source": [
    "spec_pos = librosa.feature.mfcc(y_pos_time)\n",
    "spec_pos = librosa.amplitude_to_db(spec_pos)\n",
    "librosa.display.specshow(spec_pos, sr=sr, x_axis='time', y_axis='mel')\n",
    "\n",
    "plt.title('mel power spectrogram')\n",
    "\n",
    "plt.colorbar(format='%+02.0f dB')\n",
    "\n",
    "plt.tight_layout()"
   ]
  },
  {
   "cell_type": "code",
   "execution_count": 15,
   "id": "c30aec87",
   "metadata": {},
   "outputs": [
    {
     "data": {
      "image/png": "[encoded data removed]",
      "text/plain": [
       "<Figure size 432x288 with 2 Axes>"
      ]
     },
     "metadata": {
      "needs_background": "light"
     },
     "output_type": "display_data"
    }
   ],
   "source": [
    "spec_pos = librosa.feature.chroma_stft(y_pos_time)\n",
    "spec_pos = librosa.amplitude_to_db(spec_pos)\n",
    "librosa.display.specshow(spec_pos, y_axis='chroma', x_axis='time')\n",
    "plt.title('Chromogram')\n",
    "\n",
    "\n",
    "plt.colorbar(format='%+02.0f dB')\n",
    "\n",
    "plt.tight_layout()"
   ]
  },
  {
   "cell_type": "code",
   "execution_count": null,
   "id": "05776319",
   "metadata": {},
   "outputs": [],
   "source": []
  },
  {
   "cell_type": "code",
   "execution_count": null,
   "id": "d3897a59",
   "metadata": {},
   "outputs": [],
   "source": []
  },
  {
   "cell_type": "code",
   "execution_count": null,
   "id": "85c12d6c",
   "metadata": {},
   "outputs": [],
   "source": []
  },
  {
   "cell_type": "code",
   "execution_count": 16,
   "id": "661346da",
   "metadata": {},
   "outputs": [],
   "source": [
    "emotions=[]\n",
    "for item in positive:\n",
    "    emotions.append(\"positive\")\n",
    "for item in negative:\n",
    "    emotions.append(\"negative\")\n",
    "for item in neutral:\n",
    "    emotions.append(\"neutral\")"
   ]
  },
  {
   "cell_type": "code",
   "execution_count": 17,
   "id": "6ddd0187",
   "metadata": {},
   "outputs": [
    {
     "data": {
      "text/plain": [
       "150"
      ]
     },
     "execution_count": 17,
     "metadata": {},
     "output_type": "execute_result"
    }
   ],
   "source": [
    "s_neg = 0\n",
    "for i in range(len(emotions)):\n",
    "    if(emotions[i]=='negative'):\n",
    "        s_neg+=1\n",
    "s_neg"
   ]
  },
  {
   "cell_type": "code",
   "execution_count": 18,
   "id": "1fa51ebb",
   "metadata": {},
   "outputs": [
    {
     "data": {
      "text/plain": [
       "160"
      ]
     },
     "execution_count": 18,
     "metadata": {},
     "output_type": "execute_result"
    }
   ],
   "source": [
    "s_neut = 0\n",
    "for i in range(len(emotions)):\n",
    "    if(emotions[i]=='neutral'):\n",
    "        s_neut+=1\n",
    "s_neut"
   ]
  },
  {
   "cell_type": "code",
   "execution_count": 19,
   "id": "91fbc347",
   "metadata": {},
   "outputs": [
    {
     "data": {
      "text/plain": [
       "100"
      ]
     },
     "execution_count": 19,
     "metadata": {},
     "output_type": "execute_result"
    }
   ],
   "source": [
    "s_pos = 0\n",
    "for i in range(len(emotions)):\n",
    "    if(emotions[i]=='positive'):\n",
    "        s_pos+=1\n",
    "s_pos"
   ]
  },
  {
   "cell_type": "code",
   "execution_count": 20,
   "id": "c887ca80",
   "metadata": {},
   "outputs": [
    {
     "data": {
      "text/plain": [
       "410"
      ]
     },
     "execution_count": 20,
     "metadata": {},
     "output_type": "execute_result"
    }
   ],
   "source": [
    "len(emotions)"
   ]
  },
  {
   "cell_type": "code",
   "execution_count": 21,
   "id": "87aae51c",
   "metadata": {},
   "outputs": [],
   "source": [
    "data = {'Positive':s_pos, 'Neutral':s_neut, 'Negative':s_neg}\n",
    "courses = list(data.keys())\n",
    "values = list(data.values())"
   ]
  },
  {
   "cell_type": "code",
   "execution_count": 22,
   "id": "8b71ccd6",
   "metadata": {},
   "outputs": [
    {
     "data": {
      "image/png": "[encoded data removed]",
      "text/plain": [
       "<Figure size 432x288 with 1 Axes>"
      ]
     },
     "metadata": {
      "needs_background": "light"
     },
     "output_type": "display_data"
    }
   ],
   "source": [
    "plt.bar(courses, values, color ='blue', width = 0.4)\n",
    "plt.ylabel('No. of audio files for each sentiment')\n",
    "plt.xlabel('Sentiments')\n",
    "plt.grid()\n",
    "plt.show()"
   ]
  },
  {
   "cell_type": "code",
   "execution_count": 23,
   "id": "5b766a23",
   "metadata": {},
   "outputs": [],
   "source": [
    "def load_file(filepath):\n",
    "    y,sr = librosa.load(filepath)\n",
    "    return (y,sr)"
   ]
  },
  {
   "cell_type": "code",
   "execution_count": 24,
   "id": "37d839ec",
   "metadata": {},
   "outputs": [],
   "source": [
    "def divide_segments(y_time,start):\n",
    "    # divide into 50 ms segments\n",
    "    # 50ms -> means 1111 samples    \n",
    "    y_segmented = y_time[start:start+1111]\n",
    "    return y_segmented"
   ]
  },
  {
   "cell_type": "code",
   "execution_count": 25,
   "id": "32c2bafd",
   "metadata": {},
   "outputs": [],
   "source": [
    "def stft(y_seg , sr, window, step):\n",
    "    [f,f_name] = sf.feature_extraction(y_seg,sr, window, step,  deltas = False)\n",
    "    return f"
   ]
  },
  {
   "cell_type": "code",
   "execution_count": 26,
   "id": "7e321942",
   "metadata": {},
   "outputs": [],
   "source": [
    "def feature_matricization(y_time):\n",
    "    y_seg = divide_segments(y_time,0)\n",
    "    y_stft = stft(y_seg,sr,0.05*sr,0.05*sr)\n",
    "    y_stft = y_stft.reshape(34)\n",
    "    \n",
    "    start = 1111\n",
    "    y_stfts = y_stft\n",
    "    while(start <= len(y_time)-1111):\n",
    "        y_seg = divide_segments(y_time,start)\n",
    "        #print(y_seg)\n",
    "        start += 2222\n",
    "        y_stft = stft(y_seg,sr,0.05*sr,0.05*sr)\n",
    "        #y_stft_arr = np.asarray(y_stft).T\n",
    "        y_stft = y_stft.reshape(34)\n",
    "        y_stfts = np.vstack((y_stfts, y_stft))\n",
    "        #print(y_stft_arr.shape)\n",
    "\n",
    "        #np.column_stack((y_stfts, y_stft_arr))\n",
    "        \n",
    "    if(len(y_stfts)<50):\n",
    "        #cal how less\n",
    "        x = 50 - len(y_stfts)%50\n",
    "        zeros_arr = np.zeros(shape = (x,34))\n",
    "        x_arr = np.asanyarray(y_stfts)\n",
    "        x_arr = x_arr.reshape(-1,34)\n",
    "        x_final = np.vstack((x_arr,zeros_arr))\n",
    "        \n",
    "        return x_final\n",
    "    if(len(y_stfts)>=50):\n",
    "        y_stfts = y_stfts[0:50]\n",
    "        return np.asanyarray(y_stfts)"
   ]
  },
  {
   "cell_type": "code",
   "execution_count": null,
   "id": "9d6e2400",
   "metadata": {},
   "outputs": [],
   "source": []
  },
  {
   "cell_type": "code",
   "execution_count": 27,
   "id": "90f5ac86",
   "metadata": {},
   "outputs": [
    {
     "name": "stdout",
     "output_type": "stream",
     "text": [
      "1\n",
      "2\n",
      "3\n",
      "4\n",
      "5\n",
      "6\n",
      "7\n",
      "8\n",
      "9\n",
      "10\n",
      "11\n",
      "12\n",
      "13\n",
      "14\n",
      "15\n",
      "16\n",
      "17\n",
      "18\n",
      "19\n",
      "20\n",
      "21\n",
      "22\n",
      "23\n",
      "24\n",
      "25\n",
      "26\n",
      "27\n",
      "28\n",
      "29\n",
      "30\n",
      "31\n",
      "32\n",
      "33\n",
      "34\n",
      "35\n",
      "36\n",
      "37\n",
      "38\n",
      "39\n",
      "40\n",
      "41\n",
      "42\n",
      "43\n",
      "44\n",
      "45\n",
      "46\n",
      "47\n",
      "48\n",
      "49\n",
      "50\n",
      "51\n",
      "52\n",
      "53\n",
      "54\n",
      "55\n",
      "56\n",
      "57\n",
      "58\n",
      "59\n",
      "60\n",
      "61\n",
      "62\n",
      "63\n",
      "64\n",
      "65\n",
      "66\n",
      "67\n",
      "68\n",
      "69\n",
      "70\n",
      "71\n",
      "72\n",
      "73\n",
      "74\n",
      "75\n",
      "76\n",
      "77\n",
      "78\n",
      "79\n",
      "80\n",
      "81\n",
      "82\n",
      "83\n",
      "84\n",
      "85\n",
      "86\n",
      "87\n",
      "88\n",
      "89\n",
      "90\n",
      "91\n",
      "92\n",
      "93\n",
      "94\n",
      "95\n",
      "96\n",
      "97\n",
      "98\n",
      "99\n",
      "100\n",
      "101\n",
      "102\n",
      "103\n",
      "104\n",
      "105\n",
      "106\n",
      "107\n",
      "108\n",
      "109\n",
      "110\n",
      "111\n",
      "112\n",
      "113\n",
      "114\n",
      "115\n",
      "116\n",
      "117\n",
      "118\n",
      "119\n",
      "120\n",
      "121\n",
      "122\n",
      "123\n",
      "124\n",
      "125\n",
      "126\n",
      "127\n",
      "128\n",
      "129\n",
      "130\n",
      "131\n",
      "132\n",
      "133\n",
      "134\n",
      "135\n",
      "136\n",
      "137\n",
      "138\n",
      "139\n",
      "140\n",
      "141\n",
      "142\n",
      "143\n",
      "144\n",
      "145\n",
      "146\n",
      "147\n",
      "148\n",
      "149\n",
      "150\n",
      "151\n",
      "152\n",
      "153\n",
      "154\n",
      "155\n",
      "156\n",
      "157\n",
      "158\n",
      "159\n",
      "160\n",
      "161\n",
      "162\n",
      "163\n",
      "164\n",
      "165\n",
      "166\n",
      "167\n",
      "168\n",
      "169\n",
      "170\n",
      "171\n",
      "172\n",
      "173\n",
      "174\n",
      "175\n",
      "176\n",
      "177\n",
      "178\n",
      "179\n",
      "180\n",
      "181\n",
      "182\n",
      "183\n",
      "184\n",
      "185\n",
      "186\n",
      "187\n",
      "188\n",
      "189\n",
      "190\n",
      "191\n",
      "192\n",
      "193\n",
      "194\n",
      "195\n",
      "196\n",
      "197\n",
      "198\n",
      "199\n",
      "200\n",
      "201\n",
      "202\n",
      "203\n",
      "204\n",
      "205\n",
      "206\n",
      "207\n",
      "208\n",
      "209\n",
      "210\n",
      "211\n",
      "212\n",
      "213\n",
      "214\n",
      "215\n",
      "216\n",
      "217\n",
      "218\n",
      "219\n",
      "220\n",
      "221\n",
      "222\n",
      "223\n",
      "224\n",
      "225\n",
      "226\n",
      "227\n",
      "228\n",
      "229\n",
      "230\n",
      "231\n",
      "232\n",
      "233\n",
      "234\n",
      "235\n",
      "236\n",
      "237\n",
      "238\n",
      "239\n",
      "240\n",
      "241\n",
      "242\n",
      "243\n",
      "244\n",
      "245\n",
      "246\n",
      "247\n",
      "248\n",
      "249\n",
      "250\n",
      "251\n",
      "252\n",
      "253\n",
      "254\n",
      "255\n",
      "256\n",
      "257\n",
      "258\n",
      "259\n",
      "260\n",
      "261\n",
      "262\n",
      "263\n",
      "264\n",
      "265\n",
      "266\n",
      "267\n",
      "268\n",
      "269\n",
      "270\n",
      "271\n",
      "272\n",
      "273\n",
      "274\n",
      "275\n",
      "276\n",
      "277\n",
      "278\n",
      "279\n",
      "280\n",
      "281\n",
      "282\n",
      "283\n",
      "284\n",
      "285\n",
      "286\n",
      "287\n",
      "288\n",
      "289\n",
      "290\n",
      "291\n",
      "292\n",
      "293\n",
      "294\n",
      "295\n",
      "296\n",
      "297\n",
      "298\n",
      "299\n",
      "300\n",
      "301\n",
      "302\n",
      "303\n",
      "304\n",
      "305\n",
      "306\n",
      "307\n",
      "308\n",
      "309\n",
      "310\n",
      "311\n",
      "312\n",
      "313\n",
      "314\n",
      "315\n",
      "316\n",
      "317\n",
      "318\n",
      "319\n",
      "320\n",
      "321\n",
      "322\n",
      "323\n",
      "324\n",
      "325\n",
      "326\n",
      "327\n",
      "328\n",
      "329\n",
      "330\n",
      "331\n",
      "332\n",
      "333\n",
      "334\n",
      "335\n",
      "336\n",
      "337\n",
      "338\n",
      "339\n",
      "340\n",
      "341\n",
      "342\n",
      "343\n",
      "344\n",
      "345\n",
      "346\n",
      "347\n",
      "348\n",
      "349\n",
      "350\n",
      "351\n",
      "352\n",
      "353\n",
      "354\n",
      "355\n",
      "356\n",
      "357\n",
      "358\n",
      "359\n",
      "360\n",
      "361\n",
      "362\n",
      "363\n",
      "364\n",
      "365\n",
      "366\n",
      "367\n",
      "368\n",
      "369\n",
      "370\n",
      "371\n",
      "372\n",
      "373\n",
      "374\n",
      "375\n",
      "376\n",
      "377\n",
      "378\n",
      "379\n",
      "380\n",
      "381\n",
      "382\n",
      "383\n",
      "384\n",
      "385\n",
      "386\n",
      "387\n",
      "388\n",
      "389\n",
      "390\n",
      "391\n",
      "392\n",
      "393\n",
      "394\n",
      "395\n",
      "396\n",
      "397\n",
      "398\n",
      "399\n",
      "400\n",
      "401\n",
      "402\n",
      "403\n",
      "404\n",
      "405\n",
      "406\n",
      "407\n",
      "408\n",
      "409\n"
     ]
    }
   ],
   "source": [
    "file_path = paths[0]\n",
    "label = emotions[0]\n",
    "labels = np.asarray(label)\n",
    "y,sr = librosa.load(file_path)\n",
    "y_time = librosa.frames_to_time(y)\n",
    "feat = feature_matricization(y_time)\n",
    "features = feat\n",
    "for i in range(len(paths)):\n",
    "    if(i!=0):\n",
    "        print(i)\n",
    "        file_path = paths[i]\n",
    "        label = emotions[i]\n",
    "        labels = np.vstack((labels,label))\n",
    "        y,sr = librosa.load(file_path)\n",
    "        y_time = librosa.frames_to_time(y)\n",
    "        feat = feature_matricization(y_time)\n",
    "        features = np.vstack((features,feat))"
   ]
  },
  {
   "cell_type": "code",
   "execution_count": 28,
   "id": "2abb50c0",
   "metadata": {},
   "outputs": [
    {
     "data": {
      "text/plain": [
       "numpy.ndarray"
      ]
     },
     "execution_count": 28,
     "metadata": {},
     "output_type": "execute_result"
    }
   ],
   "source": [
    "type(features)"
   ]
  },
  {
   "cell_type": "code",
   "execution_count": 29,
   "id": "19a3ac1f",
   "metadata": {},
   "outputs": [
    {
     "data": {
      "text/plain": [
       "(20500, 34)"
      ]
     },
     "execution_count": 29,
     "metadata": {},
     "output_type": "execute_result"
    }
   ],
   "source": [
    "features.shape"
   ]
  },
  {
   "cell_type": "code",
   "execution_count": 30,
   "id": "4af34a20",
   "metadata": {},
   "outputs": [
    {
     "data": {
      "text/plain": [
       "410.0"
      ]
     },
     "execution_count": 30,
     "metadata": {},
     "output_type": "execute_result"
    }
   ],
   "source": [
    "indices = features.shape[0]/50\n",
    "indices"
   ]
  },
  {
   "cell_type": "code",
   "execution_count": 31,
   "id": "c3cae7f8",
   "metadata": {},
   "outputs": [],
   "source": [
    "features_seg = np.split(features,indices)"
   ]
  },
  {
   "cell_type": "code",
   "execution_count": 32,
   "id": "3e5f39b7",
   "metadata": {},
   "outputs": [
    {
     "data": {
      "text/plain": [
       "34"
      ]
     },
     "execution_count": 32,
     "metadata": {},
     "output_type": "execute_result"
    }
   ],
   "source": [
    "len(features_seg[0][0])"
   ]
  },
  {
   "cell_type": "code",
   "execution_count": null,
   "id": "027b8453",
   "metadata": {},
   "outputs": [],
   "source": []
  },
  {
   "cell_type": "code",
   "execution_count": 33,
   "id": "191b7a06",
   "metadata": {},
   "outputs": [
    {
     "data": {
      "text/plain": [
       "array([[0., 0., 1.],\n",
       "       [0., 0., 1.],\n",
       "       [0., 0., 1.],\n",
       "       ...,\n",
       "       [0., 1., 0.],\n",
       "       [0., 1., 0.],\n",
       "       [0., 1., 0.]], dtype=float32)"
      ]
     },
     "execution_count": 33,
     "metadata": {},
     "output_type": "execute_result"
    }
   ],
   "source": [
    "from sklearn.preprocessing import LabelEncoder\n",
    "from tensorflow.keras.utils import to_categorical\n",
    "le = LabelEncoder()\n",
    "labels = to_categorical(le.fit_transform(labels))\n",
    "labels"
   ]
  },
  {
   "cell_type": "code",
   "execution_count": 34,
   "id": "4e3f49e9",
   "metadata": {},
   "outputs": [],
   "source": [
    "from sklearn.model_selection import train_test_split\n",
    "X_train,X_test,y_train,y_test = train_test_split(features_seg,labels)"
   ]
  },
  {
   "cell_type": "code",
   "execution_count": 35,
   "id": "84609489",
   "metadata": {},
   "outputs": [
    {
     "data": {
      "text/plain": [
       "307"
      ]
     },
     "execution_count": 35,
     "metadata": {},
     "output_type": "execute_result"
    }
   ],
   "source": [
    "len(X_train)"
   ]
  },
  {
   "cell_type": "code",
   "execution_count": 36,
   "id": "a035cc65",
   "metadata": {},
   "outputs": [
    {
     "data": {
      "text/plain": [
       "103"
      ]
     },
     "execution_count": 36,
     "metadata": {},
     "output_type": "execute_result"
    }
   ],
   "source": [
    "len(X_test)"
   ]
  },
  {
   "cell_type": "code",
   "execution_count": 37,
   "id": "c0d38447",
   "metadata": {},
   "outputs": [
    {
     "data": {
      "text/plain": [
       "307"
      ]
     },
     "execution_count": 37,
     "metadata": {},
     "output_type": "execute_result"
    }
   ],
   "source": [
    "len(y_train)"
   ]
  },
  {
   "cell_type": "code",
   "execution_count": 38,
   "id": "7ed05fea",
   "metadata": {},
   "outputs": [
    {
     "data": {
      "text/plain": [
       "103"
      ]
     },
     "execution_count": 38,
     "metadata": {},
     "output_type": "execute_result"
    }
   ],
   "source": [
    "len(y_test)"
   ]
  },
  {
   "cell_type": "code",
   "execution_count": null,
   "id": "73c54cfb",
   "metadata": {},
   "outputs": [],
   "source": []
  },
  {
   "cell_type": "code",
   "execution_count": 39,
   "id": "74cc074a",
   "metadata": {},
   "outputs": [
    {
     "data": {
      "text/plain": [
       "(307, 3)"
      ]
     },
     "execution_count": 39,
     "metadata": {},
     "output_type": "execute_result"
    }
   ],
   "source": [
    "y_train.shape"
   ]
  },
  {
   "cell_type": "code",
   "execution_count": 40,
   "id": "211cbf3c",
   "metadata": {},
   "outputs": [
    {
     "data": {
      "text/plain": [
       "(307, 50, 34)"
      ]
     },
     "execution_count": 40,
     "metadata": {},
     "output_type": "execute_result"
    }
   ],
   "source": [
    "X_train_arr = np.asanyarray(X_train)\n",
    "X_train_arr.shape"
   ]
  },
  {
   "cell_type": "code",
   "execution_count": null,
   "id": "36719d13",
   "metadata": {},
   "outputs": [],
   "source": []
  },
  {
   "cell_type": "code",
   "execution_count": 41,
   "id": "58e32c1b",
   "metadata": {},
   "outputs": [
    {
     "data": {
      "text/plain": [
       "(103, 50, 34)"
      ]
     },
     "execution_count": 41,
     "metadata": {},
     "output_type": "execute_result"
    }
   ],
   "source": [
    "X_test_arr = np.asanyarray(X_test)\n",
    "X_test_arr.shape"
   ]
  },
  {
   "cell_type": "code",
   "execution_count": 42,
   "id": "480659c5",
   "metadata": {},
   "outputs": [],
   "source": [
    "import tensorflow"
   ]
  },
  {
   "cell_type": "code",
   "execution_count": 43,
   "id": "89bf1add",
   "metadata": {},
   "outputs": [],
   "source": [
    "from tensorflow.keras.layers import Conv1D, MaxPooling1D, Dense, Flatten,Dropout,BatchNormalization\n",
    "from tensorflow.keras.models import Sequential,model_from_yaml"
   ]
  },
  {
   "cell_type": "code",
   "execution_count": 44,
   "id": "b02effa6",
   "metadata": {},
   "outputs": [],
   "source": [
    "from tensorflow.keras.models import load_model\n",
    "from sklearn.metrics import confusion_matrix,ConfusionMatrixDisplay"
   ]
  },
  {
   "cell_type": "code",
   "execution_count": null,
   "id": "2eb76232",
   "metadata": {},
   "outputs": [],
   "source": []
  },
  {
   "cell_type": "code",
   "execution_count": null,
   "id": "f7a12565",
   "metadata": {},
   "outputs": [],
   "source": []
  },
  {
   "cell_type": "code",
   "execution_count": 45,
   "id": "073e32e9",
   "metadata": {},
   "outputs": [],
   "source": [
    "y_train = np.asarray(y_train).astype('float32').reshape(-1,3)\n",
    "y_test = np.asarray(y_test).astype('float32').reshape(-1,3)"
   ]
  },
  {
   "cell_type": "code",
   "execution_count": 46,
   "id": "3e2d6fd9",
   "metadata": {},
   "outputs": [
    {
     "data": {
      "text/plain": [
       "(3,)"
      ]
     },
     "execution_count": 46,
     "metadata": {},
     "output_type": "execute_result"
    }
   ],
   "source": [
    "y_train[0].shape"
   ]
  },
  {
   "cell_type": "code",
   "execution_count": null,
   "id": "60b157ed",
   "metadata": {},
   "outputs": [],
   "source": []
  },
  {
   "cell_type": "code",
   "execution_count": 47,
   "id": "9b365c75",
   "metadata": {},
   "outputs": [],
   "source": [
    "model = Sequential()\n",
    "model.add(Conv1D(32,5,input_shape = (50,34)))\n",
    "model.add(Conv1D(64,4))\n",
    "model.add(MaxPooling1D(3))\n",
    "model.add(Conv1D(128,2))\n",
    "model.add(Dropout(0.1))\n",
    "model.add(MaxPooling1D(2))\n",
    "model.add((Conv1D(128,2)))\n",
    "model.add(MaxPooling1D(2))\n",
    "model.add(Flatten())\n",
    "model.add(Dense(128))\n",
    "model.add(Dropout(0.4))\n",
    "model.add(Dense(3,activation='softmax'))"
   ]
  },
  {
   "cell_type": "code",
   "execution_count": null,
   "id": "0e9f8b0c",
   "metadata": {},
   "outputs": [],
   "source": []
  },
  {
   "cell_type": "code",
   "execution_count": 48,
   "id": "8c8ace6d",
   "metadata": {},
   "outputs": [],
   "source": [
    "model.compile(optimizer='adam',loss=tensorflow.keras.losses.categorical_crossentropy,metrics = tensorflow.keras.metrics.categorical_accuracy)"
   ]
  },
  {
   "cell_type": "code",
   "execution_count": 49,
   "id": "241a3a9f",
   "metadata": {},
   "outputs": [
    {
     "name": "stdout",
     "output_type": "stream",
     "text": [
      "Model: \"sequential\"\n",
      "_________________________________________________________________\n",
      " Layer (type)                Output Shape              Param #   \n",
      "=================================================================\n",
      " conv1d (Conv1D)             (None, 46, 32)            5472      \n",
      "                                                                 \n",
      " conv1d_1 (Conv1D)           (None, 43, 64)            8256      \n",
      "                                                                 \n",
      " max_pooling1d (MaxPooling1D  (None, 14, 64)           0         \n",
      " )                                                               \n",
      "                                                                 \n",
      " conv1d_2 (Conv1D)           (None, 13, 128)           16512     \n",
      "                                                                 \n",
      " dropout (Dropout)           (None, 13, 128)           0         \n",
      "                                                                 \n",
      " max_pooling1d_1 (MaxPooling  (None, 6, 128)           0         \n",
      " 1D)                                                             \n",
      "                                                                 \n",
      " conv1d_3 (Conv1D)           (None, 5, 128)            32896     \n",
      "                                                                 \n",
      " max_pooling1d_2 (MaxPooling  (None, 2, 128)           0         \n",
      " 1D)                                                             \n",
      "                                                                 \n",
      " flatten (Flatten)           (None, 256)               0         \n",
      "                                                                 \n",
      " dense (Dense)               (None, 128)               32896     \n",
      "                                                                 \n",
      " dropout_1 (Dropout)         (None, 128)               0         \n",
      "                                                                 \n",
      " dense_1 (Dense)             (None, 3)                 387       \n",
      "                                                                 \n",
      "=================================================================\n",
      "Total params: 96,419\n",
      "Trainable params: 96,419\n",
      "Non-trainable params: 0\n",
      "_________________________________________________________________\n"
     ]
    }
   ],
   "source": [
    "model.summary()"
   ]
  },
  {
   "cell_type": "code",
   "execution_count": 50,
   "id": "8aa482c0",
   "metadata": {},
   "outputs": [
    {
     "name": "stdout",
     "output_type": "stream",
     "text": [
      "Epoch 1/20\n",
      "10/10 [==============================] - 1s 7ms/step - loss: 3.6200 - categorical_accuracy: 0.3974\n",
      "Epoch 2/20\n",
      "10/10 [==============================] - 0s 8ms/step - loss: 1.7129 - categorical_accuracy: 0.4625\n",
      "Epoch 3/20\n",
      "10/10 [==============================] - 0s 7ms/step - loss: 0.9836 - categorical_accuracy: 0.5896\n",
      "Epoch 4/20\n",
      "10/10 [==============================] - 0s 8ms/step - loss: 0.7721 - categorical_accuracy: 0.6515\n",
      "Epoch 5/20\n",
      "10/10 [==============================] - 0s 7ms/step - loss: 0.6084 - categorical_accuracy: 0.7329\n",
      "Epoch 6/20\n",
      "10/10 [==============================] - 0s 8ms/step - loss: 0.6039 - categorical_accuracy: 0.7329\n",
      "Epoch 7/20\n",
      "10/10 [==============================] - 0s 8ms/step - loss: 0.5789 - categorical_accuracy: 0.7329\n",
      "Epoch 8/20\n",
      "10/10 [==============================] - 0s 7ms/step - loss: 0.5244 - categorical_accuracy: 0.7720\n",
      "Epoch 9/20\n",
      "10/10 [==============================] - 0s 8ms/step - loss: 0.5145 - categorical_accuracy: 0.7264\n",
      "Epoch 10/20\n",
      "10/10 [==============================] - 0s 8ms/step - loss: 0.5510 - categorical_accuracy: 0.7492\n",
      "Epoch 11/20\n",
      "10/10 [==============================] - 0s 9ms/step - loss: 0.4779 - categorical_accuracy: 0.8013\n",
      "Epoch 12/20\n",
      "10/10 [==============================] - 0s 8ms/step - loss: 0.5065 - categorical_accuracy: 0.7655\n",
      "Epoch 13/20\n",
      "10/10 [==============================] - 0s 8ms/step - loss: 0.4571 - categorical_accuracy: 0.7980\n",
      "Epoch 14/20\n",
      "10/10 [==============================] - 0s 8ms/step - loss: 0.4331 - categorical_accuracy: 0.8013\n",
      "Epoch 15/20\n",
      "10/10 [==============================] - 0s 8ms/step - loss: 0.3920 - categorical_accuracy: 0.8567\n",
      "Epoch 16/20\n",
      "10/10 [==============================] - 0s 8ms/step - loss: 0.4443 - categorical_accuracy: 0.8013\n",
      "Epoch 17/20\n",
      "10/10 [==============================] - 0s 10ms/step - loss: 0.3900 - categorical_accuracy: 0.8013\n",
      "Epoch 18/20\n",
      "10/10 [==============================] - 0s 8ms/step - loss: 0.3397 - categorical_accuracy: 0.8371\n",
      "Epoch 19/20\n",
      "10/10 [==============================] - 0s 8ms/step - loss: 0.3429 - categorical_accuracy: 0.8599\n",
      "Epoch 20/20\n",
      "10/10 [==============================] - 0s 9ms/step - loss: 0.3293 - categorical_accuracy: 0.8664\n"
     ]
    },
    {
     "data": {
      "text/plain": [
       "<keras.callbacks.History at 0x13a426019f0>"
      ]
     },
     "execution_count": 50,
     "metadata": {},
     "output_type": "execute_result"
    }
   ],
   "source": [
    "model.fit(X_train_arr, y_train, epochs = 20)"
   ]
  },
  {
   "cell_type": "code",
   "execution_count": 51,
   "id": "bc64b1c6",
   "metadata": {},
   "outputs": [
    {
     "name": "stdout",
     "output_type": "stream",
     "text": [
      "10/10 [==============================] - 0s 3ms/step - loss: 0.2551 - categorical_accuracy: 0.8958\n"
     ]
    },
    {
     "data": {
      "text/plain": [
       "[0.2550577223300934, 0.895765483379364]"
      ]
     },
     "execution_count": 51,
     "metadata": {},
     "output_type": "execute_result"
    }
   ],
   "source": [
    "model.evaluate(X_train_arr, y_train)"
   ]
  },
  {
   "cell_type": "code",
   "execution_count": 52,
   "id": "fa4a88ae",
   "metadata": {},
   "outputs": [
    {
     "name": "stdout",
     "output_type": "stream",
     "text": [
      "4/4 [==============================] - 0s 3ms/step - loss: 0.5460 - categorical_accuracy: 0.7961\n"
     ]
    },
    {
     "data": {
      "text/plain": [
       "[0.5459735989570618, 0.7961165308952332]"
      ]
     },
     "execution_count": 52,
     "metadata": {},
     "output_type": "execute_result"
    }
   ],
   "source": [
    "model.evaluate(X_test_arr,y_test)"
   ]
  },
  {
   "cell_type": "code",
   "execution_count": 53,
   "id": "5690d3bd",
   "metadata": {},
   "outputs": [
    {
     "name": "stdout",
     "output_type": "stream",
     "text": [
      "4/4 [==============================] - 0s 3ms/step\n"
     ]
    },
    {
     "data": {
      "image/png": "[encoded data removed]",
      "text/plain": [
       "<Figure size 432x288 with 2 Axes>"
      ]
     },
     "metadata": {
      "needs_background": "light"
     },
     "output_type": "display_data"
    }
   ],
   "source": [
    "p = model.predict(X_test_arr)\n",
    "cm = confusion_matrix(y_test.argmax(axis=1), p.argmax(axis=1))\n",
    "disp = ConfusionMatrixDisplay(confusion_matrix=cm,\n",
    "                              display_labels=['positive','neutral','negative'])\n",
    "\n",
    "disp.plot()\n",
    "plt.show()"
   ]
  },
  {
   "cell_type": "code",
   "execution_count": 54,
   "id": "66bbc0cf",
   "metadata": {},
   "outputs": [
    {
     "name": "stdout",
     "output_type": "stream",
     "text": [
      "10/10 [==============================] - 0s 3ms/step\n"
     ]
    },
    {
     "data": {
      "image/png": "[encoded data removed]",
      "text/plain": [
       "<Figure size 432x288 with 2 Axes>"
      ]
     },
     "metadata": {
      "needs_background": "light"
     },
     "output_type": "display_data"
    }
   ],
   "source": [
    "p = model.predict(X_train_arr)\n",
    "cm = confusion_matrix(y_train.argmax(axis=1), p.argmax(axis=1))\n",
    "disp = ConfusionMatrixDisplay(confusion_matrix=cm,\n",
    "                              display_labels=['positive','neutral','negative'])\n",
    "\n",
    "disp.plot()\n",
    "plt.show()"
   ]
  },
  {
   "cell_type": "code",
   "execution_count": 55,
   "id": "afd3a8b4",
   "metadata": {},
   "outputs": [],
   "source": [
    "val_test = 'URDU-Dataset-master\\Angry\\SM1_F1_A01.wav'"
   ]
  },
  {
   "cell_type": "code",
   "execution_count": 56,
   "id": "6b485791",
   "metadata": {},
   "outputs": [],
   "source": [
    "y_val,sr = load_file(val_test)"
   ]
  },
  {
   "cell_type": "code",
   "execution_count": 57,
   "id": "c5710bb7",
   "metadata": {},
   "outputs": [],
   "source": [
    "y_val_time = librosa.frames_to_time(y_val)"
   ]
  },
  {
   "cell_type": "code",
   "execution_count": 58,
   "id": "db8f397c",
   "metadata": {},
   "outputs": [],
   "source": [
    "feat_matrix = feature_matricization(y_val_time)"
   ]
  },
  {
   "cell_type": "code",
   "execution_count": 59,
   "id": "6a92fe4b",
   "metadata": {},
   "outputs": [],
   "source": [
    "feat_matrix = np.asanyarray(feat_matrix)"
   ]
  },
  {
   "cell_type": "code",
   "execution_count": 60,
   "id": "8085ae3d",
   "metadata": {},
   "outputs": [],
   "source": [
    "feat_matrix = feat_matrix.reshape(1,50,34)"
   ]
  },
  {
   "cell_type": "code",
   "execution_count": 61,
   "id": "4f455895",
   "metadata": {},
   "outputs": [
    {
     "data": {
      "text/plain": [
       "(1, 50, 34)"
      ]
     },
     "execution_count": 61,
     "metadata": {},
     "output_type": "execute_result"
    }
   ],
   "source": [
    "feat_matrix.shape"
   ]
  },
  {
   "cell_type": "code",
   "execution_count": 62,
   "id": "750fd078",
   "metadata": {},
   "outputs": [
    {
     "name": "stdout",
     "output_type": "stream",
     "text": [
      "1/1 [==============================] - 0s 22ms/step\n"
     ]
    }
   ],
   "source": [
    "y = model.predict(feat_matrix)"
   ]
  },
  {
   "cell_type": "code",
   "execution_count": null,
   "id": "9b148392",
   "metadata": {},
   "outputs": [],
   "source": []
  },
  {
   "cell_type": "code",
   "execution_count": 63,
   "id": "9481cbb6",
   "metadata": {},
   "outputs": [
    {
     "data": {
      "text/plain": [
       "array([9.959906e-01, 6.177808e-05, 3.947652e-03], dtype=float32)"
      ]
     },
     "execution_count": 63,
     "metadata": {},
     "output_type": "execute_result"
    }
   ],
   "source": [
    "y = y.reshape(3)\n",
    "y"
   ]
  },
  {
   "cell_type": "code",
   "execution_count": 64,
   "id": "25a5cbe6",
   "metadata": {},
   "outputs": [],
   "source": [
    "if(y[0]>y[2] and y[0]>y[1]):\n",
    "    y[0]=1\n",
    "    y[1]=0\n",
    "    y[2]=0\n",
    "elif(y[1]>y[2] and y[1]>y[0]):\n",
    "    y[0]=0\n",
    "    y[1]=1\n",
    "    y[2]=0\n",
    "else:\n",
    "    y[0]=0\n",
    "    y[1]=0\n",
    "    y[2]=1"
   ]
  },
  {
   "cell_type": "code",
   "execution_count": 65,
   "id": "4db88f85",
   "metadata": {},
   "outputs": [],
   "source": [
    "y = y.astype('int')"
   ]
  },
  {
   "cell_type": "code",
   "execution_count": 66,
   "id": "cbe9db74",
   "metadata": {},
   "outputs": [
    {
     "data": {
      "text/plain": [
       "array([1, 0, 0])"
      ]
     },
     "execution_count": 66,
     "metadata": {},
     "output_type": "execute_result"
    }
   ],
   "source": [
    "y"
   ]
  },
  {
   "cell_type": "code",
   "execution_count": 67,
   "id": "67b0ba03",
   "metadata": {},
   "outputs": [
    {
     "name": "stdout",
     "output_type": "stream",
     "text": [
      "['negative' 'neutral' 'positive']\n"
     ]
    }
   ],
   "source": [
    "print(le.classes_)"
   ]
  },
  {
   "cell_type": "code",
   "execution_count": 68,
   "id": "47a3c0b3",
   "metadata": {},
   "outputs": [
    {
     "data": {
      "text/plain": [
       "array(['neutral', 'negative', 'negative'], dtype='<U8')"
      ]
     },
     "execution_count": 68,
     "metadata": {},
     "output_type": "execute_result"
    }
   ],
   "source": [
    "le.inverse_transform(y.reshape(3))"
   ]
  },
  {
   "cell_type": "code",
   "execution_count": null,
   "id": "0c2a51e2",
   "metadata": {},
   "outputs": [],
   "source": []
  },
  {
   "cell_type": "code",
   "execution_count": 69,
   "id": "c3bb0eb9",
   "metadata": {},
   "outputs": [],
   "source": [
    "val_test = 'Audio-Classification-master/Audio_data/test/neutral_1.wav'"
   ]
  },
  {
   "cell_type": "code",
   "execution_count": 70,
   "id": "2f3e5524",
   "metadata": {},
   "outputs": [],
   "source": [
    "y_val,sr = load_file(val_test)"
   ]
  },
  {
   "cell_type": "code",
   "execution_count": 71,
   "id": "70809a95",
   "metadata": {},
   "outputs": [],
   "source": [
    "y_val_time = librosa.frames_to_time(y_val)"
   ]
  },
  {
   "cell_type": "code",
   "execution_count": 72,
   "id": "3e5de0d4",
   "metadata": {},
   "outputs": [],
   "source": [
    "feat_matrix = feature_matricization(y_val_time)"
   ]
  },
  {
   "cell_type": "code",
   "execution_count": 73,
   "id": "9684daa2",
   "metadata": {},
   "outputs": [],
   "source": [
    "feat_matrix = np.asanyarray(feat_matrix)"
   ]
  },
  {
   "cell_type": "code",
   "execution_count": 74,
   "id": "0329d1e5",
   "metadata": {},
   "outputs": [],
   "source": [
    "feat_matrix = feat_matrix.reshape(1,50,34)"
   ]
  },
  {
   "cell_type": "code",
   "execution_count": 75,
   "id": "00daaffb",
   "metadata": {},
   "outputs": [
    {
     "data": {
      "text/plain": [
       "(1, 50, 34)"
      ]
     },
     "execution_count": 75,
     "metadata": {},
     "output_type": "execute_result"
    }
   ],
   "source": [
    "feat_matrix.shape"
   ]
  },
  {
   "cell_type": "code",
   "execution_count": 76,
   "id": "c8cd23db",
   "metadata": {},
   "outputs": [
    {
     "name": "stdout",
     "output_type": "stream",
     "text": [
      "1/1 [==============================] - 0s 21ms/step\n"
     ]
    },
    {
     "data": {
      "text/plain": [
       "array([[6.312399e-03, 9.935999e-01, 8.773523e-05]], dtype=float32)"
      ]
     },
     "execution_count": 76,
     "metadata": {},
     "output_type": "execute_result"
    }
   ],
   "source": [
    "y = model.predict(feat_matrix)\n",
    "y"
   ]
  },
  {
   "cell_type": "code",
   "execution_count": 77,
   "id": "20a7559b",
   "metadata": {},
   "outputs": [],
   "source": [
    "y = y.reshape(3)"
   ]
  },
  {
   "cell_type": "code",
   "execution_count": 78,
   "id": "9ce4e2ba",
   "metadata": {},
   "outputs": [],
   "source": [
    "if(y[0]>y[2] and y[0]>y[1]):\n",
    "    y[0]=1\n",
    "    y[1]=0\n",
    "    y[2]=0\n",
    "elif(y[1]>y[2] and y[1]>y[0]):\n",
    "    y[0]=0\n",
    "    y[1]=1\n",
    "    y[2]=0\n",
    "else:\n",
    "    y[0]=0\n",
    "    y[1]=0\n",
    "    y[2]=1"
   ]
  },
  {
   "cell_type": "code",
   "execution_count": 79,
   "id": "728242ca",
   "metadata": {},
   "outputs": [
    {
     "data": {
      "text/plain": [
       "array([0., 1., 0.], dtype=float32)"
      ]
     },
     "execution_count": 79,
     "metadata": {},
     "output_type": "execute_result"
    }
   ],
   "source": [
    "y"
   ]
  },
  {
   "cell_type": "code",
   "execution_count": 80,
   "id": "7aef4867",
   "metadata": {},
   "outputs": [
    {
     "name": "stdout",
     "output_type": "stream",
     "text": [
      "['negative' 'neutral' 'positive']\n"
     ]
    }
   ],
   "source": [
    "print(le.classes_)"
   ]
  },
  {
   "cell_type": "code",
   "execution_count": null,
   "id": "e7a9d044",
   "metadata": {},
   "outputs": [],
   "source": []
  },
  {
   "cell_type": "code",
   "execution_count": null,
   "id": "bc0f066e",
   "metadata": {},
   "outputs": [],
   "source": []
  },
  {
   "cell_type": "code",
   "execution_count": 125,
   "id": "f75b6eec",
   "metadata": {},
   "outputs": [
    {
     "data": {
      "text/plain": [
       "'URDU-Dataset-master\\\\Happy\\\\SM7_F26_H098.wav'"
      ]
     },
     "execution_count": 125,
     "metadata": {},
     "output_type": "execute_result"
    }
   ],
   "source": [
    "val_test = 'URDU-Dataset-master\\Happy\\SM7_F26_H098.wav'\n",
    "val_test"
   ]
  },
  {
   "cell_type": "code",
   "execution_count": 126,
   "id": "30c8995a",
   "metadata": {},
   "outputs": [
    {
     "name": "stdout",
     "output_type": "stream",
     "text": [
      "1/1 [==============================] - 0s 22ms/step\n"
     ]
    }
   ],
   "source": [
    "y_val,sr = load_file(val_test)\n",
    "y_val_time = librosa.frames_to_time(y_val)\n",
    "feat_matrix = feature_matricization(y_val_time)\n",
    "feat_matrix = np.asanyarray(feat_matrix)\n",
    "feat_matrix = feat_matrix.reshape(1,50,34)\n",
    "y = model.predict(feat_matrix)\n",
    "y = y.reshape(3)"
   ]
  },
  {
   "cell_type": "code",
   "execution_count": 127,
   "id": "b15eeb66",
   "metadata": {},
   "outputs": [],
   "source": [
    "if(y[0]>y[2] and y[0]>y[1]):\n",
    "    y[0]=1\n",
    "    y[1]=0\n",
    "    y[2]=0\n",
    "elif(y[1]>y[2] and y[1]>y[0]):\n",
    "    y[0]=0\n",
    "    y[1]=1\n",
    "    y[2]=0\n",
    "else:\n",
    "    y[0]=0\n",
    "    y[1]=0\n",
    "    y[2]=1"
   ]
  },
  {
   "cell_type": "code",
   "execution_count": 128,
   "id": "59193532",
   "metadata": {},
   "outputs": [
    {
     "data": {
      "text/plain": [
       "array([0., 0., 1.], dtype=float32)"
      ]
     },
     "execution_count": 128,
     "metadata": {},
     "output_type": "execute_result"
    }
   ],
   "source": [
    "y"
   ]
  },
  {
   "cell_type": "code",
   "execution_count": 129,
   "id": "51613d6d",
   "metadata": {},
   "outputs": [
    {
     "name": "stdout",
     "output_type": "stream",
     "text": [
      "['negative' 'neutral' 'positive']\n"
     ]
    }
   ],
   "source": [
    "print(le.classes_)"
   ]
  },
  {
   "cell_type": "code",
   "execution_count": 130,
   "id": "e2815d33",
   "metadata": {},
   "outputs": [],
   "source": [
    "model.save('model_82.h5')"
   ]
  },
  {
   "cell_type": "code",
   "execution_count": null,
   "id": "34617dd8",
   "metadata": {},
   "outputs": [],
   "source": []
  },
  {
   "cell_type": "code",
   "execution_count": null,
   "id": "5a210014",
   "metadata": {},
   "outputs": [],
   "source": []
  },
  {
   "cell_type": "code",
   "execution_count": 174,
   "id": "b25c203f",
   "metadata": {},
   "outputs": [],
   "source": [
    "val_test = 'Audio-Classification-master/Audio_data/test/WhatsApp Audio 2022-11-19 at 15.10.51.wav'"
   ]
  },
  {
   "cell_type": "code",
   "execution_count": 175,
   "id": "5f51a1f4",
   "metadata": {},
   "outputs": [
    {
     "name": "stdout",
     "output_type": "stream",
     "text": [
      "1/1 [==============================] - 0s 21ms/step\n"
     ]
    }
   ],
   "source": [
    "y_val, sr = librosa.load(val_test)\n",
    "y_val_time = librosa.frames_to_time(y_val)\n",
    "feat_matrix = feature_matricization(y_val_time)\n",
    "feat_matrix = np.asanyarray(feat_matrix)\n",
    "feat_matrix = feat_matrix.reshape(1,50,34)\n",
    "y = model.predict(feat_matrix)\n",
    "y = y.reshape(3)"
   ]
  },
  {
   "cell_type": "code",
   "execution_count": 176,
   "id": "d7a82294",
   "metadata": {},
   "outputs": [
    {
     "data": {
      "text/plain": [
       "array([0.34558558, 0.6172193 , 0.03719514], dtype=float32)"
      ]
     },
     "execution_count": 176,
     "metadata": {},
     "output_type": "execute_result"
    }
   ],
   "source": [
    "y"
   ]
  },
  {
   "cell_type": "code",
   "execution_count": 168,
   "id": "59e9772c",
   "metadata": {},
   "outputs": [],
   "source": [
    "if(y[0]>y[2] and y[0]>y[1]):\n",
    "    y[0]=1\n",
    "    y[1]=0\n",
    "    y[2]=0\n",
    "elif(y[1]>y[2] and y[1]>y[0]):\n",
    "    y[0]=0\n",
    "    y[1]=1\n",
    "    y[2]=0\n",
    "else:\n",
    "    y[0]=0\n",
    "    y[1]=0\n",
    "    y[2]=1"
   ]
  },
  {
   "cell_type": "code",
   "execution_count": 169,
   "id": "58bb4eb1",
   "metadata": {},
   "outputs": [
    {
     "data": {
      "text/plain": [
       "array([0., 1., 0.], dtype=float32)"
      ]
     },
     "execution_count": 169,
     "metadata": {},
     "output_type": "execute_result"
    }
   ],
   "source": [
    "y\n"
   ]
  },
  {
   "cell_type": "code",
   "execution_count": 170,
   "id": "9e9d3386",
   "metadata": {},
   "outputs": [
    {
     "name": "stdout",
     "output_type": "stream",
     "text": [
      "['negative' 'neutral' 'positive']\n"
     ]
    }
   ],
   "source": [
    "print(le.classes_)"
   ]
  },
  {
   "cell_type": "code",
   "execution_count": null,
   "id": "3151cb11",
   "metadata": {},
   "outputs": [],
   "source": []
  }
 ],
 "metadata": {
  "kernelspec": {
   "display_name": "Python 3.10.5 64-bit",
   "language": "python",
   "name": "python3"
  },
  "language_info": {
   "codemirror_mode": {
    "name": "ipython",
    "version": 3
   },
   "file_extension": ".py",
   "mimetype": "text/x-python",
   "name": "python",
   "nbconvert_exporter": "python",
   "pygments_lexer": "ipython3",
   "version": "3.10.5"
  },
  "vscode": {
   "interpreter": {
    "hash": "8ef873d6a9fb09128c51ca24f57d685a29a4c4cb4919f17482f419e89ebc151a"
   }
  }
 },
 "nbformat": 4,
 "nbformat_minor": 5
}
